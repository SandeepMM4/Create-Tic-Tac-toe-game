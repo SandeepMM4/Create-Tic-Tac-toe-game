{
 "cells": [
  {
   "cell_type": "code",
   "execution_count": 12,
   "metadata": {},
   "outputs": [],
   "source": [
    "from IPython.display import clear_output\n",
    "\n",
    "def display_board(board):\n",
    "    clear_output()\n",
    "    print(board[1]+ '|' +board[2]+ '|' +board[3])\n",
    "    print(board[4]+ '|' +board[5]+ '|' +board[6])\n",
    "    print(board[7]+ '|' +board[8]+ '|' +board[9])"
   ]
  },
  {
   "cell_type": "code",
   "execution_count": 13,
   "metadata": {},
   "outputs": [],
   "source": [
    "def player_input():\n",
    "      \n",
    "    marker=''\n",
    "    \n",
    "    while marker != 'x' and marker != 'o':\n",
    "        marker= input('player 1: choose x or o:' )\n",
    "        \n",
    "    if marker== 'x':\n",
    "        return ('x' , 'o')\n",
    "    else:\n",
    "        return ('o','x')"
   ]
  },
  {
   "cell_type": "code",
   "execution_count": 14,
   "metadata": {},
   "outputs": [],
   "source": [
    "def place_marker(board,marker,position):\n",
    "    board[position]= marker"
   ]
  },
  {
   "cell_type": "code",
   "execution_count": 15,
   "metadata": {},
   "outputs": [],
   "source": [
    "def win_check(board, mark):\n",
    "    return ((board[1]==mark and board[2]==mark and board[3]==mark) or \n",
    "            (board[4]==mark and board[5]==mark and board[6]==mark)  or\n",
    "            (board[7]==mark and board[8]==mark and board[9]==mark)  or\n",
    "            (board[1]==mark and board[4]==mark and board[7]==mark)  or\n",
    "            (board[2]==mark and board[5]==mark and board[8]==mark)  or\n",
    "            (board[3]==mark and board[6]==mark and board[9]==mark)  or\n",
    "            (board[1]==mark and board[5]==mark and board[9]==mark)  or\n",
    "            (board[3]==mark and board[5]==mark and board[7]==mark))"
   ]
  },
  {
   "cell_type": "code",
   "execution_count": 16,
   "metadata": {},
   "outputs": [],
   "source": [
    "from random import randint\n",
    "\n",
    "def choose_first():\n",
    "    \n",
    "    num=randint(0,1)\n",
    "    if num==0:\n",
    "        return 'player 1'\n",
    "    else:\n",
    "        return 'player 2'\n",
    "    "
   ]
  },
  {
   "cell_type": "code",
   "execution_count": 17,
   "metadata": {},
   "outputs": [],
   "source": [
    "def space_check(board,position):\n",
    "    return board[position]==''\n",
    "    "
   ]
  },
  {
   "cell_type": "code",
   "execution_count": 18,
   "metadata": {},
   "outputs": [],
   "source": [
    "def full_board_check(board):\n",
    "    for i in range(1,10):\n",
    "        if space_check(board,i):\n",
    "           return False\n",
    "    return True"
   ]
  },
  {
   "cell_type": "code",
   "execution_count": 19,
   "metadata": {},
   "outputs": [],
   "source": [
    "def player_choice(board):\n",
    "    position=0\n",
    "    \n",
    "    while position not in [1,2,3,4,5,6,7,8,9] or not  space_check(board,position):\n",
    "        position=int(input('choose a position: (1-9)'))\n",
    "        return position\n",
    "        "
   ]
  },
  {
   "cell_type": "code",
   "execution_count": 20,
   "metadata": {},
   "outputs": [],
   "source": [
    "def replay():\n",
    "    choice=input('play again?Enter yes or no')\n",
    "    return choice =='yes'"
   ]
  },
  {
   "cell_type": "code",
   "execution_count": null,
   "metadata": {},
   "outputs": [
    {
     "name": "stdout",
     "output_type": "stream",
     "text": [
      "x|x|x\n",
      "x| |x\n",
      " |x|x\n",
      "player 1 has won\n"
     ]
    }
   ],
   "source": [
    "print('welcome to tic tac toe game')\n",
    "while True:\n",
    "    the_board=[' ']*10\n",
    "    player1_marker,player2_marker=player_input()\n",
    "    turn=choose_first()\n",
    "    print(turn + 'will go first')\n",
    "    play_game=input('Ready to play? y or n?')\n",
    "    if play_game=='y':\n",
    "        game_on=True\n",
    "    else:\n",
    "        game_on=False\n",
    "    while game_on:\n",
    "        if  turn=='player 1':\n",
    "            display_board(the_board)\n",
    "            position=player_choice(the_board)\n",
    "            place_marker(the_board,player1_marker,position)     \n",
    "            if win_check(the_board,player1_marker):\n",
    "                display_board(the_board)\n",
    "                print('player 1 has won')\n",
    "                game_on=False\n",
    "            else:\n",
    "                if full_board_check(the_board):\n",
    "                    display_board(the_board)\n",
    "                    print('tie game')\n",
    "                else:\n",
    "                    turn='player 2'\n",
    "        else:\n",
    "            display_board(the_board)\n",
    "            position=player_choice(the_board)\n",
    "            place_marker(the_board,player2_marker,position)\n",
    "            if  win_check(the_board,player2_marker):\n",
    "                display_board(the_board)\n",
    "                print('player 2 has won')\n",
    "                game_on=False\n",
    "            else:\n",
    "                if full_board_check(the_board):\n",
    "                    display_board(the_board)\n",
    "                    print('tie game')\n",
    "                else:\n",
    "                    turn='player 1'\n",
    "    if not replay():\n",
    "        break\n",
    "                "
   ]
  },
  {
   "cell_type": "code",
   "execution_count": null,
   "metadata": {},
   "outputs": [],
   "source": []
  },
  {
   "cell_type": "code",
   "execution_count": null,
   "metadata": {},
   "outputs": [],
   "source": []
  },
  {
   "cell_type": "code",
   "execution_count": null,
   "metadata": {},
   "outputs": [],
   "source": []
  }
 ],
 "metadata": {
  "kernelspec": {
   "display_name": "Python 3",
   "language": "python",
   "name": "python3"
  },
  "language_info": {
   "codemirror_mode": {
    "name": "ipython",
    "version": 3
   },
   "file_extension": ".py",
   "mimetype": "text/x-python",
   "name": "python",
   "nbconvert_exporter": "python",
   "pygments_lexer": "ipython3",
   "version": "3.7.3"
  }
 },
 "nbformat": 4,
 "nbformat_minor": 2
}
